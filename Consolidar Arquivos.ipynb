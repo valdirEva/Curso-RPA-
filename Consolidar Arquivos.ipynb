{
 "cells": [
  {
   "cell_type": "code",
   "execution_count": 1,
   "id": "0c04e321",
   "metadata": {},
   "outputs": [
    {
     "name": "stdout",
     "output_type": "stream",
     "text": [
      "Requirement already satisfied: pandas in c:\\users\\valdi\\anaconda3\\lib\\site-packages (1.3.4)\n",
      "Requirement already satisfied: python-dateutil>=2.7.3 in c:\\users\\valdi\\anaconda3\\lib\\site-packages (from pandas) (2.8.2)\n",
      "Requirement already satisfied: pytz>=2017.3 in c:\\users\\valdi\\anaconda3\\lib\\site-packages (from pandas) (2021.3)\n",
      "Requirement already satisfied: numpy>=1.17.3 in c:\\users\\valdi\\anaconda3\\lib\\site-packages (from pandas) (1.20.3)\n",
      "Requirement already satisfied: six>=1.5 in c:\\users\\valdi\\anaconda3\\lib\\site-packages (from python-dateutil>=2.7.3->pandas) (1.16.0)\n"
     ]
    }
   ],
   "source": [
    "!pip install pandas"
   ]
  },
  {
   "cell_type": "code",
   "execution_count": 3,
   "id": "f38d853f",
   "metadata": {},
   "outputs": [
    {
     "name": "stdout",
     "output_type": "stream",
     "text": [
      "[]\n",
      "----- #### -------- ###### ---------\n",
      "----- #### -------- ###### ---------\n",
      "[]\n"
     ]
    }
   ],
   "source": [
    "import pandas as opcoesDoPanda\n",
    "import os\n",
    "\n",
    "#Caminho onde estão os arquivos\n",
    "caminhoArquivos = r\"C:\\\\Users\\\\valdi\\\\Documents\\\\CURSOS\\\\RPA Python\\\\consolidar\\\\Excel\"\n",
    "\n",
    "#Variável onde estão todos os arquivos\n",
    "listaArquivos = os.listdir(caminhoArquivos)\n",
    "\n",
    "print(listaArquivos)\n",
    "\n",
    "#Listando todos os arquivos + o caminho\n",
    "listaCaminhoEArquivoExcel = [caminhoArquivos + '\\\\' + arquivo for arquivo in listaArquivos if arquivo[-4:] == 'xlsx' ]\n",
    "\n",
    "print(\"----- #### -------- ###### ---------\")\n",
    "print(\"----- #### -------- ###### ---------\")\n",
    "print(listaCaminhoEArquivoExcel)\n",
    "\n",
    "#Criando um DataFrame para trabalhar com os dados dos arquivos\n",
    "dadosArquivo = opcoesDoPanda.DataFrame()\n",
    "\n",
    "#Copiando todos os dados dos arquivos em DadosArquivo\n",
    "for arquivo in listaCaminhoEArquivoExcel:\n",
    "    dados = opcoesDoPanda.read_excel(arquivo)\n",
    "    dadosArquivo = dadosArquivo.append(dados)\n",
    "    \n",
    "#Criando uma nova planilha e passando os dados dos arquivos\n",
    "dadosArquivo.to_excel(r\"C:\\\\Users\\\\valdi\\\\Documents\\\\CURSOS\\\\RPA Python\\\\consolidarArquivo Consolidado.xlsx\")"
   ]
  },
  {
   "cell_type": "code",
   "execution_count": 5,
   "id": "ca4d7b90",
   "metadata": {},
   "outputs": [
    {
     "name": "stdout",
     "output_type": "stream",
     "text": [
      "17\n"
     ]
    }
   ],
   "source": [
    "import pandas as opcoesDoPanda\n",
    "import os\n",
    "\n",
    "#Caminho onde estão os arquivos\n",
    "caminhoArquivos = r\"C:\\\\Users\\\\valdi\\\\Documents\\\\CURSOS\\\\RPA Python\\\\consolidar\\\\Excel\"\n",
    "\n",
    "#Variável onde estão todos os arquivos\n",
    "listaArquivos = os.listdir(caminhoArquivos)\n",
    "\n",
    "#Listando todos os arquivos + o caminho\n",
    "listaCaminhoEArquivoExcel = [caminhoArquivos + '\\\\' + arquivo for arquivo in listaArquivos if arquivo[-4:] == 'xlsx' ]\n",
    "\n",
    "#Criando um DataFrame para trabalhar com os dados dos arquivos\n",
    "dadosArquivo = opcoesDoPanda.DataFrame()\n",
    "\n",
    "#Copiando todos os dados dos arquivos em DadosArquivo\n",
    "for arquivo in listaCaminhoEArquivoExcel:\n",
    "    dados = opcoesDoPanda.read_excel(arquivo)\n",
    "    dadosArquivo = dadosArquivo.append(dados)\n",
    "    \n",
    "#Criando uma nova planilha e passando os dados dos arquivos\n",
    "dadosArquivo.to_excel(r\"C:\\\\Users\\\\valdi\\\\Documents\\\\CURSOS\\\\RPA Python\\\\Arquivo Consolidado.xlsx\")\n",
    "\n",
    "#################################################################\n",
    "\n",
    "from openpyxl import load_workbook\n",
    "from openpyxl import workbook\n",
    "\n",
    "from openpyxl.styles import Color, PatternFill, Font, Border, Side\n",
    "from openpyxl.styles import colors\n",
    "from openpyxl.cell import Cell\n",
    "\n",
    "caminhoArquivoDadosSistema = \"C:\\\\Users\\\\valdi\\\\Documents\\\\CURSOS\\\\RPA Python\\\\Arquivo Consolidado.xlsx\"\n",
    "planilhaDadosSistema = load_workbook(filename=caminhoArquivoDadosSistema)\n",
    "\n",
    "#Seleciona a sheet1\n",
    "sheetPlanilhaDadosSistema = planilhaDadosSistema['Sheet1']\n",
    "\n",
    "#Deleta a coluna A\n",
    "sheetPlanilhaDadosSistema.delete_cols(1)\n",
    "\n",
    "#Renomeia o nome da sheet\n",
    "sheetPlanilhaDadosSistema.title = 'Dados Consolidados'\n",
    "\n",
    "#Aumenta a largura das colunas A e B\n",
    "sheetPlanilhaDadosSistema.column_dimensions['A'].width = 35\n",
    "sheetPlanilhaDadosSistema.column_dimensions['B'].width = 40\n",
    "\n",
    "#Criando preenchimento cor Cinza fraco\n",
    "corCinza = PatternFill(start_color='00FFFFFF',\n",
    "                    end_color='00FFFFFF',\n",
    "                    fill_type='solid')\n",
    "\n",
    "#Criando preenchimento cor Amarela\n",
    "corAmerelo = PatternFill(start_color='00FFFFCC',\n",
    "                    end_color='00FFFFCC',\n",
    "                    fill_type='solid')\n",
    "\n",
    "#Coloca borda preta na célula\n",
    "bfFina = Side(border_style='thin', color='000000')\n",
    "borda = Border(left=bfFina, right=bfFina, top=bfFina, bottom=bfFina)\n",
    "\n",
    "#Colocando cores e borda e fundo nas celulas A1, B1 e C1\n",
    "sheetPlanilhaDadosSistema['A1'].fill = corAmerelo\n",
    "sheetPlanilhaDadosSistema['B1'].fill = corAmerelo\n",
    "sheetPlanilhaDadosSistema['C1'].fill = corAmerelo\n",
    "sheetPlanilhaDadosSistema['A1'].border = borda\n",
    "sheetPlanilhaDadosSistema['B1'].border = borda\n",
    "sheetPlanilhaDadosSistema['C1'].border = borda\n",
    "\n",
    "#Dando um for linha por linha para pintar as bordas e o fundo\n",
    "for linha in range(2, len(sheetPlanilhaDadosSistema['A']) + 1):\n",
    "        \n",
    "        #Criando celula A2, B2, C2 e assim por diante de acordo com o número da linha\n",
    "        celulaColunaA = 'A' + str(linha)\n",
    "        celulaColunaB = 'B' + str(linha)\n",
    "        celulaColunaC = 'C' + str(linha)\n",
    "                   \n",
    "        #Colorindo o fundo de cinza claro das linhas\n",
    "        sheetPlanilhaDadosSistema[celulaColunaA].fill = corCinza\n",
    "        sheetPlanilhaDadosSistema[celulaColunaB].fill = corCinza\n",
    "        sheetPlanilhaDadosSistema[celulaColunaC].fill = corCinza\n",
    "                   \n",
    "        #Colocando a borda preta nas linhas\n",
    "        sheetPlanilhaDadosSistema[celulaColunaA].border = borda\n",
    "        sheetPlanilhaDadosSistema[celulaColunaB].border = borda\n",
    "        sheetPlanilhaDadosSistema[celulaColunaC].border = borda\n",
    "        \n",
    "#Achando a ultima linha e somando + 1\n",
    "ultimaLinhaMaisUm = linha + 1\n",
    "print(ultimaLinhaMaisUm)\n",
    "\n",
    "#Desenhando a coluna C + a última linha para usar na variável\n",
    "celulaUltimaLinha = 'C' + str(ultimaLinhaMaisUm)\n",
    "\n",
    "#Desenhando a fúrmula da soma\n",
    "formulaSoma = \"=SUM(C2:C\" + str(linha) + \")\"\n",
    "\n",
    "#Imprimindo a fórmula de soma na planilha\n",
    "sheetPlanilhaDadosSistema[celulaUltimaLinha] = formulaSoma\n",
    "\n",
    "#Salva a planilha com as alterações\n",
    "planilhaDadosSistema.save(filename=caminhoArquivoDadosSistema)\n",
    "\n",
    "#Abre a planilha\n",
    "os.startfile(caminhoArquivoDadosSistema)"
   ]
  },
  {
   "cell_type": "code",
   "execution_count": null,
   "id": "60e4c7d7",
   "metadata": {},
   "outputs": [],
   "source": []
  }
 ],
 "metadata": {
  "kernelspec": {
   "display_name": "Python 3 (ipykernel)",
   "language": "python",
   "name": "python3"
  },
  "language_info": {
   "codemirror_mode": {
    "name": "ipython",
    "version": 3
   },
   "file_extension": ".py",
   "mimetype": "text/x-python",
   "name": "python",
   "nbconvert_exporter": "python",
   "pygments_lexer": "ipython3",
   "version": "3.9.7"
  }
 },
 "nbformat": 4,
 "nbformat_minor": 5
}
